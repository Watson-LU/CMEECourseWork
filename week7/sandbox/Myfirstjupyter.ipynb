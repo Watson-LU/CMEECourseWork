{
 "cells": [
  {
   "cell_type": "markdown",
   "id": "3714ba65-f0cd-40ce-9b59-f873b83f0bb2",
   "metadata": {
    "jp-MarkdownHeadingCollapsed": true,
    "tags": []
   },
   "source": [
    "#Myfirst jupyter work"
   ]
  },
  {
   "cell_type": "code",
   "execution_count": 5,
   "id": "7fb6ead3-48b7-40ce-967b-2c63192af3be",
   "metadata": {
    "tags": []
   },
   "outputs": [
    {
     "name": "stdout",
     "output_type": "stream",
     "text": [
      "this is python!\n"
     ]
    }
   ],
   "source": [
    "a = \"this is python!\"; print(a)"
   ]
  },
  {
   "cell_type": "code",
   "execution_count": 1,
   "id": "61ff43fa-d630-4e30-87f2-a91a63cd6552",
   "metadata": {
    "tags": []
   },
   "outputs": [
    {
     "name": "stdout",
     "output_type": "stream",
     "text": [
      "now run my time"
     ]
    }
   ],
   "source": [
    "a<- \"now run my time\";cat(a)"
   ]
  },
  {
   "cell_type": "code",
   "execution_count": 2,
   "id": "9e419f71-f371-43d9-a1bc-d1a15fcb088a",
   "metadata": {},
   "outputs": [
    {
     "name": "stderr",
     "output_type": "stream",
     "text": [
      "/tmp/ipykernel_98551/1392045731.py:4: DeprecationWarning: scipy.arange is deprecated and will be removed in SciPy 2.0.0, use numpy.arange instead\n",
      "  x = sc.arange(0,5,0.1); y = sc.sin(x)\n",
      "/tmp/ipykernel_98551/1392045731.py:4: DeprecationWarning: scipy.sin is deprecated and will be removed in SciPy 2.0.0, use numpy.sin instead\n",
      "  x = sc.arange(0,5,0.1); y = sc.sin(x)\n"
     ]
    },
    {
     "data": {
      "image/png": "[encoded data removed]",
      "text/plain": [
       "<Figure size 432x288 with 1 Axes>"
      ]
     },
     "metadata": {
      "needs_background": "light"
     },
     "output_type": "display_data"
    }
   ],
   "source": [
    "import matplotlib.pyplot as p\n",
    "import scipy as sc\n",
    "\n",
    "x = sc.arange(0,5,0.1); y = sc.sin(x)\n",
    "p.plot(x,y);p.show()"
   ]
  },
  {
   "cell_type": "code",
   "execution_count": 5,
   "id": "302a62e2-72b0-43eb-9c5c-190b4e0919d1",
   "metadata": {},
   "outputs": [
    {
     "name": "stderr",
     "output_type": "stream",
     "text": [
      "Loading required package: ggplot2\n",
      "\n"
     ]
    },
    {
     "data": {
      "image/png": "[encoded data removed]",
      "text/plain": [
       "plot without title"
      ]
     },
     "metadata": {
      "image/png": {
       "height": 150,
       "width": 198
      }
     },
     "output_type": "display_data"
    }
   ],
   "source": [
    "require(ggplot2)\n",
    "library(repr) #to resize plot within jypyter \n",
    "options(repr.plot.width = 3.3, repr.plot.height=2.5)\n",
    "        \n",
    "x<- seq(0,5, 0.1);y<-sin(x)\n",
    "qplot(x,y,geom=\"line\") #large figure"
   ]
  },
  {
   "cell_type": "code",
   "execution_count": 8,
   "id": "e5ba3d83-99cf-4bdc-a447-c5dd648b57e6",
   "metadata": {},
   "outputs": [],
   "source": [
    "import pandas as pd\n",
    "pd.__version__\n",
    "\n",
    "import scipy as sc\n"
   ]
  },
  {
   "cell_type": "code",
   "execution_count": null,
   "id": "7453e6f1-c1fa-41fd-8bf7-5aecf3a98c56",
   "metadata": {},
   "outputs": [],
   "source": []
  },
  {
   "cell_type": "code",
   "execution_count": 10,
   "id": "e7235566-2c35-4480-ada2-765084b18892",
   "metadata": {},
   "outputs": [],
   "source": [
    "%matplotlib inline\n",
    "import matplotlib.pyplot as p\n",
    "from sympy import *\n",
    "import scipy as sc\n",
    "init_printing()"
   ]
  },
  {
   "cell_type": "markdown",
   "id": "9b9dab2c-020c-47c1-8ceb-d28784697686",
   "metadata": {},
   "source": [
    "#try to say with symbolic variables"
   ]
  },
  {
   "cell_type": "code",
   "execution_count": 11,
   "id": "796a8bf5-8050-451a-8560-4559989dcb98",
   "metadata": {},
   "outputs": [
    {
     "data": {
      "text/plain": [
       "sympy.core.symbol.Symbol"
      ]
     },
     "execution_count": 11,
     "metadata": {},
     "output_type": "execute_result"
    }
   ],
   "source": [
    "x = var(\"x\")\n",
    "type(x) # check if it is class\n"
   ]
  },
  {
   "cell_type": "code",
   "execution_count": 18,
   "id": "6049ac6c-f148-4af0-8848-b89595616ed5",
   "metadata": {},
   "outputs": [
    {
     "data": {
      "image/png": "[encoded data removed]",
      "text/latex": [
       "$\\displaystyle \\text{True}$"
      ],
      "text/plain": [
       "True"
      ]
     },
     "execution_count": 18,
     "metadata": {},
     "output_type": "execute_result"
    }
   ],
   "source": [
    "a,b,c = var(\"a,b,c\")\n",
    "x = var(\"x\", real = True)\n",
    "x.is_imaginary\n",
    "x = Symbol(\"x\",positive=True)\n",
    "x>0"
   ]
  },
  {
   "cell_type": "code",
   "execution_count": 19,
   "id": "23f758a1-0ef1-4502-a27c-7222b17cef47",
   "metadata": {},
   "outputs": [
    {
     "data": {
      "image/png": "[encoded data removed]",
      "text/latex": [
       "$\\displaystyle \\text{False}$"
      ],
      "text/plain": [
       "False"
      ]
     },
     "execution_count": 19,
     "metadata": {},
     "output_type": "execute_result"
    }
   ],
   "source": [
    "x<0"
   ]
  },
  {
   "cell_type": "markdown",
   "id": "7339a6da-38d5-4cbd-9a59-0c7b4f8849c1",
   "metadata": {},
   "source": [
    "#Symbolic equations"
   ]
  },
  {
   "cell_type": "code",
   "execution_count": 20,
   "id": "07098ac1-3cdf-4d13-844c-976eaa7e4f28",
   "metadata": {},
   "outputs": [
    {
     "data": {
      "image/png": "[encoded data removed]",
      "text/latex": [
       "$\\displaystyle \\left(x + \\pi\\right)^{2}$"
      ],
      "text/plain": [
       "       2\n",
       "(x + π) "
      ]
     },
     "execution_count": 20,
     "metadata": {},
     "output_type": "execute_result"
    }
   ],
   "source": [
    "myfun= (pi+ x)**2; myfun"
   ]
  },
  {
   "cell_type": "markdown",
   "id": "1de91552-8c32-4bcc-9ac4-2cd570fb0777",
   "metadata": {},
   "source": [
    "#important! to show how to write int the latex version\n",
    "when in the jupyter. automatically translate it!"
   ]
  },
  {
   "cell_type": "code",
   "execution_count": 21,
   "id": "58df42e8-850c-406a-87d4-5d5107bd91bc",
   "metadata": {},
   "outputs": [
    {
     "data": {
      "text/plain": [
       "'\\\\left(x + \\\\pi\\\\right)^{2}'"
      ]
     },
     "execution_count": 21,
     "metadata": {},
     "output_type": "execute_result"
    }
   ],
   "source": [
    "latex(myfun)\n"
   ]
  },
  {
   "cell_type": "code",
   "execution_count": 22,
   "id": "eb8438e4-1a48-42c5-b894-a76f3b257c9f",
   "metadata": {},
   "outputs": [
    {
     "name": "stdout",
     "output_type": "stream",
     "text": [
      "\\left(x + \\pi\\right)^{2}\n"
     ]
    }
   ],
   "source": [
    "print(latex(myfun))"
   ]
  },
  {
   "cell_type": "markdown",
   "id": "35e33256-094b-47ac-b062-d3884227de45",
   "metadata": {},
   "source": [
    "#Numerical evaluation"
   ]
  },
  {
   "cell_type": "code",
   "execution_count": null,
   "id": "95f181db-0f95-494a-9672-5b0827a754de",
   "metadata": {},
   "outputs": [],
   "source": [
    "pi.evalf(n=100)"
   ]
  },
  {
   "cell_type": "code",
   "execution_count": 23,
   "id": "7b8772cf-8dc1-4ece-8525-5ed13bddbbe6",
   "metadata": {},
   "outputs": [
    {
     "data": {
      "image/png": "[encoded data removed]",
      "text/latex": [
       "$\\displaystyle 3.1415926535897932384626433832795028841971693993751$"
      ],
      "text/plain": [
       "3.1415926535897932384626433832795028841971693993751"
      ]
     },
     "execution_count": 23,
     "metadata": {},
     "output_type": "execute_result"
    }
   ],
   "source": [
    "N(pi,50)"
   ]
  },
  {
   "cell_type": "code",
   "execution_count": 28,
   "id": "e964fd13-db19-4ccd-9a9a-cd0212617de1",
   "metadata": {
    "tags": []
   },
   "outputs": [
    {
     "data": {
      "image/png": "[encoded data removed]",
      "text/latex": [
       "$\\displaystyle 9.8696 \\left(0.31831 x + 1\\right)^{2}$"
      ],
      "text/plain": [
       "                      2\n",
       "9.8696⋅(0.31831⋅x + 1) "
      ]
     },
     "execution_count": 28,
     "metadata": {},
     "output_type": "execute_result"
    }
   ],
   "source": [
    "N(myfun,5)"
   ]
  },
  {
   "cell_type": "code",
   "execution_count": 29,
   "id": "2120eb0e-eb16-4538-8596-507968ebc4ea",
   "metadata": {},
   "outputs": [
    {
     "data": {
      "image/png": "[encoded data removed]",
      "text/latex": [
       "$\\displaystyle \\left(1.5 + \\pi\\right)^{2}$"
      ],
      "text/plain": [
       "         2\n",
       "(1.5 + π) "
      ]
     },
     "execution_count": 29,
     "metadata": {},
     "output_type": "execute_result"
    }
   ],
   "source": [
    "myfun.subs(x,1.5)"
   ]
  },
  {
   "cell_type": "code",
   "execution_count": 30,
   "id": "df8d915f-b2ac-43c9-9415-f62fdadde67c",
   "metadata": {},
   "outputs": [
    {
     "data": {
      "image/png": "[encoded data removed]",
      "text/latex": [
       "$\\displaystyle \\left(1.5 + \\pi\\right)^{2}$"
      ],
      "text/plain": [
       "         2\n",
       "(1.5 + π) "
      ]
     },
     "execution_count": 30,
     "metadata": {},
     "output_type": "execute_result"
    }
   ],
   "source": [
    "myfun.subs(x,1.5)"
   ]
  },
  {
   "cell_type": "code",
   "execution_count": 31,
   "id": "d6b56524-54ad-47f9-9064-d5a10f9f7a08",
   "metadata": {},
   "outputs": [
    {
     "data": {
      "image/png": "[encoded data removed]",
      "text/latex": [
       "$\\displaystyle \\left(a + 2 \\pi\\right)^{2}$"
      ],
      "text/plain": [
       "         2\n",
       "(a + 2⋅π) "
      ]
     },
     "execution_count": 31,
     "metadata": {},
     "output_type": "execute_result"
    }
   ],
   "source": [
    "myfun.subs(x, a+pi)"
   ]
  },
  {
   "cell_type": "code",
   "execution_count": 38,
   "id": "2e0a8024-24b1-40a3-8c3b-5b4eb1baf371",
   "metadata": {},
   "outputs": [
    {
     "data": {
      "image/png": "[encoded data removed]",
      "text/latex": [
       "$\\displaystyle \\left(a + 2 \\pi\\right)^{2}$"
      ],
      "text/plain": [
       "         2\n",
       "(a + 2⋅π) "
      ]
     },
     "execution_count": 38,
     "metadata": {},
     "output_type": "execute_result"
    }
   ],
   "source": [
    "myfun_new= myfun.subs(x,a+pi);myfun_new"
   ]
  },
  {
   "cell_type": "code",
   "execution_count": 33,
   "id": "9eb2dc4b-b3ec-4e33-abfb-a15f7cf00ec1",
   "metadata": {},
   "outputs": [
    {
     "name": "stderr",
     "output_type": "stream",
     "text": [
      "/tmp/ipykernel_99856/1024606788.py:1: DeprecationWarning: scipy.arange is deprecated and will be removed in SciPy 2.0.0, use numpy.arange instead\n",
      "  x_vec = sc.arange(0,10,0.1)\n",
      "/tmp/ipykernel_99856/1024606788.py:2: DeprecationWarning: scipy.array is deprecated and will be removed in SciPy 2.0.0, use numpy.array instead\n",
      "  myfun_vec=sc.array([N(myfun.subs(x,xx)) for xx in x_vec])\n"
     ]
    }
   ],
   "source": [
    "x_vec = sc.arange(0,10,0.1)\n",
    "myfun_vec=sc.array([N(myfun.subs(x,xx)) for xx in x_vec])"
   ]
  },
  {
   "cell_type": "code",
   "execution_count": 39,
   "id": "1ea1cbf8-bea6-4544-83f0-f2c889428b51",
   "metadata": {},
   "outputs": [
    {
     "name": "stderr",
     "output_type": "stream",
     "text": [
      "/tmp/ipykernel_99856/736072547.py:1: DeprecationWarning: scipy.array is deprecated and will be removed in SciPy 2.0.0, use numpy.array instead\n",
      "  myfun_new_vec = sc.array([N((myfun_new).subs(a, xx)) for xx in x_vec])\n"
     ]
    }
   ],
   "source": [
    "myfun_new_vec = sc.array([N((myfun_new).subs(a, xx)) for xx in x_vec])"
   ]
  },
  {
   "cell_type": "code",
   "execution_count": 40,
   "id": "7f4f5258-d108-47b7-a6b2-ccdc162b8589",
   "metadata": {},
   "outputs": [
    {
     "data": {
      "text/plain": [
       "[<matplotlib.lines.Line2D at 0x7f9dd1b78730>]"
      ]
     },
     "execution_count": 40,
     "metadata": {},
     "output_type": "execute_result"
    },
    {
     "data": {
      "image/png": "[encoded data removed]",
      "text/plain": [
       "<Figure size 432x288 with 1 Axes>"
      ]
     },
     "metadata": {
      "needs_background": "light"
     },
     "output_type": "display_data"
    }
   ],
   "source": [
    "fig, ax = p.subplots()\n",
    "ax.plot(x_vec, myfun_vec)\n",
    "ax.plot(x_vec, myfun_new_vec)"
   ]
  },
  {
   "cell_type": "code",
   "execution_count": 42,
   "id": "eed5618c-ff95-4b01-88b8-31ccd69a3b0c",
   "metadata": {},
   "outputs": [],
   "source": [
    "myfun_lamb = lambdify([x], myfun, 'numpy')\n"
   ]
  },
  {
   "cell_type": "code",
   "execution_count": 43,
   "id": "c0bdb6fa-4642-47fb-82ad-0fb83df5b088",
   "metadata": {},
   "outputs": [],
   "source": [
    "mydun_vec= myfun_lamb(x_vec)"
   ]
  },
  {
   "cell_type": "code",
   "execution_count": 44,
   "id": "8eb35ebb-df3c-49fc-970d-5b01a0f7e339",
   "metadata": {},
   "outputs": [
    {
     "name": "stderr",
     "output_type": "stream",
     "text": [
      "<magic-timeit>:1: DeprecationWarning: scipy.array is deprecated and will be removed in SciPy 2.0.0, use numpy.array instead\n"
     ]
    },
    {
     "name": "stdout",
     "output_type": "stream",
     "text": [
      "17.3 ms ± 905 µs per loop (mean ± std. dev. of 7 runs, 100 loops each)\n"
     ]
    }
   ],
   "source": [
    "%%timeit #remember this?\n",
    "\n",
    "myfun_vec = sc.array([N(((x + pi)**2).subs(x, xx)) for xx in x_vec])"
   ]
  },
  {
   "cell_type": "code",
   "execution_count": 46,
   "id": "1dc7ee97-6d86-4513-ab04-93791412e6ea",
   "metadata": {},
   "outputs": [
    {
     "name": "stdout",
     "output_type": "stream",
     "text": [
      "2.04 µs ± 15.5 ns per loop (mean ± std. dev. of 7 runs, 100000 loops each)\n"
     ]
    }
   ],
   "source": [
    "%%timeit\n",
    "\n",
    "myfun_vec = myfun_lamb(x_vec)"
   ]
  },
  {
   "cell_type": "code",
   "execution_count": null,
   "id": "d923d7bb-aa94-4615-bafb-7231d76a7a04",
   "metadata": {},
   "outputs": [],
   "source": []
  },
  {
   "cell_type": "code",
   "execution_count": null,
   "id": "3fe5683f-231b-42e5-9c7f-7ab82d25381e",
   "metadata": {},
   "outputs": [],
   "source": []
  }
 ],
 "metadata": {
  "kernelspec": {
   "display_name": "Python 3 (ipykernel)",
   "language": "python",
   "name": "python3"
  },
  "language_info": {
   "codemirror_mode": {
    "name": "ipython",
    "version": 3
   },
   "file_extension": ".py",
   "mimetype": "text/x-python",
   "name": "python",
   "nbconvert_exporter": "python",
   "pygments_lexer": "ipython3",
   "version": "3.10.6"
  }
 },
 "nbformat": 4,
 "nbformat_minor": 5
}
